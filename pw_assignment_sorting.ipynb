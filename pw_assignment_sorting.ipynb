{
  "nbformat": 4,
  "nbformat_minor": 0,
  "metadata": {
    "colab": {
      "provenance": []
    },
    "kernelspec": {
      "name": "python3",
      "display_name": "Python 3"
    },
    "language_info": {
      "name": "python"
    }
  },
  "cells": [
    {
      "cell_type": "code",
      "execution_count": 10,
      "metadata": {
        "colab": {
          "base_uri": "https://localhost:8080/"
        },
        "id": "1q5t44GPwCfH",
        "outputId": "06049c1f-3129-4ce2-a77e-02e9fd1ab28f"
      },
      "outputs": [
        {
          "output_type": "stream",
          "name": "stdout",
          "text": [
            "The element with the maximum number of occurrences is: 4\n"
          ]
        }
      ],
      "source": [
        "# Problem 1.Given an array of n numbers, give an algorithm which gives the element appearing maximum\n",
        "# number of times? and test it\n",
        "\n",
        "def find_max_occurrence(arr):\n",
        "  \"\"\"\n",
        "  Finds the element with the maximum number of occurrences in an array.\n",
        "\n",
        "  Args:\n",
        "    arr: The input array.\n",
        "\n",
        "  Returns:\n",
        "    The element with the maximum number of occurrences.\n",
        "  \"\"\"\n",
        "  if not arr:\n",
        "    return None\n",
        "\n",
        "  counts = {}\n",
        "  for num in arr:\n",
        "    if num in counts:\n",
        "      counts[num] += 1\n",
        "    else:\n",
        "      counts[num] = 1\n",
        "\n",
        "  max_count = 0\n",
        "  max_element = None\n",
        "  for num, count in counts.items():\n",
        "    if count > max_count:\n",
        "      max_count = count\n",
        "      max_element = num\n",
        "\n",
        "  return max_element\n",
        "\n",
        "\n",
        "# Test the algorithm\n",
        "arr = [1, 2, 3, 2, 2, 1, 4, 4, 4, 4]\n",
        "result = find_max_occurrence(arr)\n",
        "print(f\"The element with the maximum number of occurrences is: {result}\")\n"
      ]
    },
    {
      "cell_type": "code",
      "source": [
        "# Problem 2 : We are given a list of n-1 integers and these integers are in the range of 1 to n . There are no\n",
        "# duplicates in the list. One of the integers is missing in the list. Give an algorithm to find that element Ex:\n",
        "# [1,2,4,6,3,7,8] 5 is the missing num.\n",
        "\n",
        "def find_missing_number(arr):\n",
        "  \"\"\"\n",
        "  Finds the missing number in a list of n-1 integers in the range of 1 to n.\n",
        "\n",
        "  Args:\n",
        "    arr: The input array.\n",
        "\n",
        "  Returns:\n",
        "    The missing number.\n",
        "  \"\"\"\n",
        "  n = len(arr) + 1  # Calculate the expected length of the array\n",
        "  total_sum = (n * (n + 1)) // 2  # Calculate the sum of numbers from 1 to n\n",
        "  actual_sum = sum(arr)  # Calculate the sum of the given array\n",
        "  missing_number = total_sum - actual_sum  # Find the difference to get the missing number\n",
        "  return missing_number\n",
        "\n",
        "\n",
        "# Test the algorithm\n",
        "arr = [1, 2, 4, 6, 3, 7, 8]\n",
        "result = find_missing_number(arr)\n",
        "print(f\"The missing number is: {result}\")\n"
      ],
      "metadata": {
        "colab": {
          "base_uri": "https://localhost:8080/"
        },
        "id": "sQqxo65mwXz8",
        "outputId": "95d95d27-0091-423c-b294-05601775fc24"
      },
      "execution_count": 9,
      "outputs": [
        {
          "output_type": "stream",
          "name": "stdout",
          "text": [
            "The missing number is: 5\n"
          ]
        }
      ]
    },
    {
      "cell_type": "code",
      "source": [
        "# Problem 3 : Given an array of n positive numbers. All numbers occurs even number of times except 1 which\n",
        "# occurs odd number of times. Find that number in O(n) time and O(1) space. Ex: [1,2,3,2,3,1,3]. 3 is repeats odd\n",
        "# times.\n",
        "\n",
        "def find_odd_occurring_number(arr):\n",
        "  \"\"\"\n",
        "  Finds the number that occurs an odd number of times in an array.\n",
        "\n",
        "  Args:\n",
        "    arr: The input array.\n",
        "\n",
        "  Returns:\n",
        "    The number that occurs an odd number of times.\n",
        "  \"\"\"\n",
        "  result = 0\n",
        "  for num in arr:\n",
        "    result ^= num\n",
        "  return result\n",
        "\n",
        "# Test the algorithm\n",
        "arr = [1, 2, 3, 2, 3, 1, 3]\n",
        "result = find_odd_occurring_number(arr)\n",
        "print(f\"The number that occurs an odd number of times is: {result}\")\n"
      ],
      "metadata": {
        "colab": {
          "base_uri": "https://localhost:8080/"
        },
        "id": "MxcOY4aswf8I",
        "outputId": "bae9f07d-b1fd-4680-8ce5-8b242764c79e"
      },
      "execution_count": 8,
      "outputs": [
        {
          "output_type": "stream",
          "name": "stdout",
          "text": [
            "The number that occurs an odd number of times is: 3\n"
          ]
        }
      ]
    },
    {
      "cell_type": "code",
      "source": [
        "# Problem 4 : Given an array of n elements. Find two elements in the array such that their sum is equal to given\n",
        "# element K.\n",
        "\n",
        "def find_sum_pairs(arr, k):\n",
        "  \"\"\"\n",
        "  Finds two elements in an array whose sum is equal to a given number.\n",
        "\n",
        "  Args:\n",
        "    arr: The input array.\n",
        "    k: The target sum.\n",
        "\n",
        "  Returns:\n",
        "    A list of pairs whose sum is equal to k.\n",
        "  \"\"\"\n",
        "  seen = set()\n",
        "  pairs = []\n",
        "  for num in arr:\n",
        "    complement = k - num\n",
        "    if complement in seen:\n",
        "      pairs.append((num, complement))\n",
        "    seen.add(num)\n",
        "  return pairs\n",
        "\n",
        "# Test the algorithm\n",
        "arr = [1, 4, 2, 5, 3]\n",
        "k = 7\n",
        "result = find_sum_pairs(arr, k)\n",
        "print(f\"Pairs with sum {k}: {result}\")\n"
      ],
      "metadata": {
        "colab": {
          "base_uri": "https://localhost:8080/"
        },
        "id": "mBYHiLPxwkP1",
        "outputId": "f2d8e77e-510c-4fd8-a387-947415a2aff0"
      },
      "execution_count": 7,
      "outputs": [
        {
          "output_type": "stream",
          "name": "stdout",
          "text": [
            "Pairs with sum 7: [(5, 2), (3, 4)]\n"
          ]
        }
      ]
    },
    {
      "cell_type": "code",
      "source": [
        "# Problem 5 : Given an array of both positive and negative numbers, find two numbers such that their sum is\n",
        "# closest to 0. Ex: [ 1 ,60 ,-10, 70, -80,85]. Ans : -80,85.\n",
        "\n",
        "def find_closest_sum_to_zero(arr):\n",
        "  \"\"\"\n",
        "  Finds two numbers in an array whose sum is closest to 0.\n",
        "\n",
        "  Args:\n",
        "    arr: The input array.\n",
        "\n",
        "  Returns:\n",
        "    A tuple containing the two numbers whose sum is closest to 0.\n",
        "  \"\"\"\n",
        "  if len(arr) < 2:\n",
        "    return None\n",
        "\n",
        "  min_sum = float('inf')\n",
        "  closest_pair = None\n",
        "\n",
        "  for i in range(len(arr)):\n",
        "    for j in range(i + 1, len(arr)):\n",
        "      current_sum = abs(arr[i] + arr[j])\n",
        "      if current_sum < min_sum:\n",
        "        min_sum = current_sum\n",
        "        closest_pair = (arr[i], arr[j])\n",
        "\n",
        "  return closest_pair\n",
        "\n",
        "# Test the algorithm\n",
        "arr = [1, 60, -10, 70, -80, 85]\n",
        "result = find_closest_sum_to_zero(arr)\n",
        "print(f\"Two numbers with sum closest to 0: {result}\")\n"
      ],
      "metadata": {
        "colab": {
          "base_uri": "https://localhost:8080/"
        },
        "id": "QCgv6e2qwq_1",
        "outputId": "5cedf698-334c-4fb7-8a70-0ce9c21130e9"
      },
      "execution_count": 6,
      "outputs": [
        {
          "output_type": "stream",
          "name": "stdout",
          "text": [
            "Two numbers with sum closest to 0: (-80, 85)\n"
          ]
        }
      ]
    },
    {
      "cell_type": "code",
      "source": [
        "# Problem 6 : Given an array of n elements . Find three elements such that their sum is equal to the given\n",
        "# number.\n",
        "\n",
        "def find_triplet_sum(arr, target_sum):\n",
        "  \"\"\"\n",
        "  Finds three elements in an array whose sum is equal to the given number.\n",
        "\n",
        "  Args:\n",
        "    arr: The input array.\n",
        "    target_sum: The target sum.\n",
        "\n",
        "  Returns:\n",
        "    A list of triplets whose sum is equal to the target sum.\n",
        "  \"\"\"\n",
        "  n = len(arr)\n",
        "  triplets = []\n",
        "  for i in range(n - 2):\n",
        "    for j in range(i + 1, n - 1):\n",
        "      for k in range(j + 1, n):\n",
        "        if arr[i] + arr[j] + arr[k] == target_sum:\n",
        "          triplets.append((arr[i], arr[j], arr[k]))\n",
        "  return triplets\n",
        "\n",
        "# Test the algorithm\n",
        "arr = [1, 4, 2, 5, 3]\n",
        "target_sum = 12\n",
        "result = find_triplet_sum(arr, target_sum)\n",
        "print(f\"Triplets with sum {target_sum}: {result}\")\n"
      ],
      "metadata": {
        "colab": {
          "base_uri": "https://localhost:8080/"
        },
        "id": "3wF5PQMBwvJK",
        "outputId": "7beca9c4-d4aa-49d9-8890-4cbf323a1851"
      },
      "execution_count": 5,
      "outputs": [
        {
          "output_type": "stream",
          "name": "stdout",
          "text": [
            "Triplets with sum 12: [(4, 5, 3)]\n"
          ]
        }
      ]
    },
    {
      "cell_type": "code",
      "source": [
        "# Problem 7 : Given an array of n elements . Find three elements i, j, k in the array such that\n",
        "# i * i + j * j = k*k.\n",
        "\n",
        "def find_triplet(arr):\n",
        "  \"\"\"\n",
        "  Finds three elements i, j, k in the array such that i * i + j * j = k * k.\n",
        "\n",
        "  Args:\n",
        "    arr: The input array.\n",
        "\n",
        "  Returns:\n",
        "    A list of triplets that satisfy the condition.\n",
        "  \"\"\"\n",
        "  n = len(arr)\n",
        "  triplets = []\n",
        "  for i in range(n):\n",
        "    for j in range(i + 1, n):\n",
        "      for k in range(j + 1, n):\n",
        "        if arr[i] * arr[i] + arr[j] * arr[j] == arr[k] * arr[k]:\n",
        "          triplets.append((arr[i], arr[j], arr[k]))\n",
        "  return triplets\n",
        "\n",
        "# Test the algorithm\n",
        "arr = [3, 1, 4, 6, 5]\n",
        "result = find_triplet(arr)\n",
        "print(f\"Triplets satisfying the condition: {result}\")\n"
      ],
      "metadata": {
        "colab": {
          "base_uri": "https://localhost:8080/"
        },
        "id": "WeGC1tOUwzA0",
        "outputId": "262315a8-3284-4df9-f9f1-2b5e871042bb"
      },
      "execution_count": 4,
      "outputs": [
        {
          "output_type": "stream",
          "name": "stdout",
          "text": [
            "Triplets satisfying the condition: [(3, 4, 5)]\n"
          ]
        }
      ]
    },
    {
      "cell_type": "code",
      "source": [
        "# Problem 8 : An element is a majority if it appears more than n/2 times. Give an algorithm takes an array of n\n",
        "# element as argument and identifies a majority (if it exists).\n",
        "\n",
        "def find_majority_element(arr):\n",
        "  \"\"\"\n",
        "  Finds the majority element in an array.\n",
        "\n",
        "  Args:\n",
        "    arr: The input array.\n",
        "\n",
        "  Returns:\n",
        "    The majority element if it exists, otherwise None.\n",
        "  \"\"\"\n",
        "  if not arr:\n",
        "    return None\n",
        "\n",
        "  candidate = None\n",
        "  count = 0\n",
        "  for num in arr:\n",
        "    if count == 0:\n",
        "      candidate = num\n",
        "      count = 1\n",
        "    elif num == candidate:\n",
        "      count += 1\n",
        "    else:\n",
        "      count -= 1\n",
        "\n",
        "  # Verify if the candidate is the majority element\n",
        "  count = 0\n",
        "  for num in arr:\n",
        "    if num == candidate:\n",
        "      count += 1\n",
        "  if count > len(arr) // 2:\n",
        "    return candidate\n",
        "  else:\n",
        "    return None\n",
        "\n",
        "# Test the algorithm\n",
        "arr = [1, 2, 3, 2, 2, 1, 2]\n",
        "result = find_majority_element(arr)\n",
        "print(f\"The majority element is: {result}\")\n"
      ],
      "metadata": {
        "colab": {
          "base_uri": "https://localhost:8080/"
        },
        "id": "LZi3e0ZKw3JT",
        "outputId": "cb563617-7051-4964-b678-54907bbab41a"
      },
      "execution_count": 3,
      "outputs": [
        {
          "output_type": "stream",
          "name": "stdout",
          "text": [
            "The majority element is: 2\n"
          ]
        }
      ]
    },
    {
      "cell_type": "code",
      "source": [
        "# Problem 9 : Given n × n matrix, and in each row all 1’s are followed by 0’s. Find the row with the maximum\n",
        "# number of 0’s.\n",
        "\n",
        "def find_row_with_max_zeros(matrix):\n",
        "  \"\"\"\n",
        "  Finds the row with the maximum number of 0's in a matrix where 1's are followed by 0's in each row.\n",
        "\n",
        "  Args:\n",
        "    matrix: The input matrix.\n",
        "\n",
        "  Returns:\n",
        "    The row index with the maximum number of 0's.\n",
        "  \"\"\"\n",
        "  max_zeros = 0\n",
        "  row_index = -1\n",
        "  for i in range(len(matrix)):\n",
        "    count = 0\n",
        "    for j in range(len(matrix[i])):\n",
        "      if matrix[i][j] == 0:\n",
        "        count += 1\n",
        "    if count > max_zeros:\n",
        "      max_zeros = count\n",
        "      row_index = i\n",
        "  return row_index\n",
        "\n",
        "# Test the algorithm\n",
        "matrix = [\n",
        "    [1, 1, 0, 0],\n",
        "    [1, 0, 0, 0],\n",
        "    [1, 1, 1, 0],\n",
        "    [0, 0, 0, 0]\n",
        "]\n",
        "result = find_row_with_max_zeros(matrix)\n",
        "print(f\"The row with the maximum number of 0's is: {result}\")\n"
      ],
      "metadata": {
        "colab": {
          "base_uri": "https://localhost:8080/"
        },
        "id": "OE7FD17fw6ec",
        "outputId": "af31eda4-87ed-40a7-8b99-8a885dd97284"
      },
      "execution_count": 2,
      "outputs": [
        {
          "output_type": "stream",
          "name": "stdout",
          "text": [
            "The row with the maximum number of 0's is: 3\n"
          ]
        }
      ]
    },
    {
      "cell_type": "code",
      "source": [
        "# Problem 10 : Sort an array of 0’s, 1’s and 2’s [or R’s, G’s and B’s]: Given an array A[] consisting of 0’s, 1’s and\n",
        "# 2’s, give an algorithm for sorting A[].The algorithm should put all 0’s first, then all 1’s and finally all 2’s at the\n",
        "# end. Example Input = {0,1,1,0,1,2,1,2,0,0,0,1}, Output = {0,0,0,0,0,1,1,1,1,1,2,2}\n",
        "\n",
        "def sort_012(arr):\n",
        "  \"\"\"\n",
        "  Sorts an array of 0's, 1's and 2's.\n",
        "\n",
        "  Args:\n",
        "    arr: The input array.\n",
        "\n",
        "  Returns:\n",
        "    The sorted array.\n",
        "  \"\"\"\n",
        "  low = 0\n",
        "  mid = 0\n",
        "  high = len(arr) - 1\n",
        "\n",
        "  while mid <= high:\n",
        "    if arr[mid] == 0:\n",
        "      arr[low], arr[mid] = arr[mid], arr[low]\n",
        "      low += 1\n",
        "      mid += 1\n",
        "    elif arr[mid] == 1:\n",
        "      mid += 1\n",
        "    else:  # arr[mid] == 2\n",
        "      arr[mid], arr[high] = arr[high], arr[mid]\n",
        "      high -= 1\n",
        "  return arr\n",
        "\n",
        "# Test the algorithm\n",
        "arr = [0, 1, 1, 0, 1, 2, 1, 2, 0, 0, 0, 1]\n",
        "result = sort_012(arr)\n",
        "print(f\"Sorted array: {result}\")\n"
      ],
      "metadata": {
        "colab": {
          "base_uri": "https://localhost:8080/"
        },
        "id": "FmSgPWWGw97r",
        "outputId": "15715cad-2201-4e59-ec6a-f061b1536aac"
      },
      "execution_count": 1,
      "outputs": [
        {
          "output_type": "stream",
          "name": "stdout",
          "text": [
            "Sorted array: [0, 0, 0, 0, 0, 1, 1, 1, 1, 1, 2, 2]\n"
          ]
        }
      ]
    }
  ]
}